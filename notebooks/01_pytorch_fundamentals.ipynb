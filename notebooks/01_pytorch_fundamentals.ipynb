{
 "cells": [
  {
   "cell_type": "markdown",
   "metadata": {},
   "source": [
    "# PyTorch Fundamentals\n",
    "\n",
    "## Topics Coverd:\n",
    "\n",
    "1. Tensors and Basic Operations\n",
    "   - Creating Tensors\n",
    "   - Basic Mathematical Operations\n",
    "   - Element-wise operations\n",
    "   - Matrix operations\n",
    "2. Tensor Attributes and Methods\n",
    "   - Tensor properties (shape, dtype, device)\n",
    "   - Tensor manipulation (reshape, transpose)\n",
    "   - Indexing and slicing\n",
    "   - Type conversion\n",
    "3. Autograd Basics\n",
    "   - Computational graphs\n",
    "   - Automatic differentiation\n",
    "   - Computing gradients\n",
    "   - Basic optimization example"
   ]
  },
  {
   "cell_type": "code",
   "execution_count": 1,
   "metadata": {},
   "outputs": [
    {
     "name": "stdout",
     "output_type": "stream",
     "text": [
      "PyTorch version: 2.2.2\n",
      "Using device: cpu\n",
      "tensor([1, 2, 3])\n"
     ]
    }
   ],
   "source": [
    "import torch\n",
    "import numpy as np\n",
    "\n",
    "print(f\"PyTorch version: {torch.__version__}\")\n",
    "print(f\"Using device: {torch.device('cuda' if torch.cuda.is_available() else 'cpu')}\")\n",
    "\n"
   ]
  },
  {
   "cell_type": "code",
   "execution_count": null,
   "metadata": {},
   "outputs": [],
   "source": []
  }
 ],
 "metadata": {
  "kernelspec": {
   "display_name": ".venv-pytorch-practice",
   "language": "python",
   "name": "python3"
  },
  "language_info": {
   "codemirror_mode": {
    "name": "ipython",
    "version": 3
   },
   "file_extension": ".py",
   "mimetype": "text/x-python",
   "name": "python",
   "nbconvert_exporter": "python",
   "pygments_lexer": "ipython3",
   "version": "3.8.19"
  }
 },
 "nbformat": 4,
 "nbformat_minor": 2
}
