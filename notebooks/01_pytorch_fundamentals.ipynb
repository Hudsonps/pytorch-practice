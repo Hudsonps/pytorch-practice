{
 "cells": [
  {
   "cell_type": "markdown",
   "metadata": {},
   "source": [
    "# PyTorch Fundamentals\n",
    "\n",
    "## Topics Coverd:\n",
    "\n",
    "1. Tensors and Basic Operations\n",
    "   - Creating Tensors\n",
    "   - Basic Mathematical Operations\n",
    "   - Element-wise operations\n",
    "   - Matrix operations\n",
    "2. Tensor Attributes and Methods\n",
    "   - Tensor properties (shape, dtype, device)\n",
    "   - Tensor manipulation (reshape, transpose)\n",
    "   - Indexing and slicing\n",
    "   - Type conversion\n",
    "3. Autograd Basics\n",
    "   - Computational graphs\n",
    "   - Automatic differentiation\n",
    "   - Computing gradients\n",
    "   - Basic optimization example"
   ]
  },
  {
   "cell_type": "code",
   "execution_count": 1,
   "metadata": {},
   "outputs": [
    {
     "name": "stdout",
     "output_type": "stream",
     "text": [
      "PyTorch version: 2.2.2\n",
      "Using device: cpu\n"
     ]
    }
   ],
   "source": [
    "import torch\n",
    "import numpy as np\n",
    "\n",
    "print(f\"PyTorch version: {torch.__version__}\")\n",
    "print(f\"Using device: {torch.device('cuda' if torch.cuda.is_available() else 'cpu')}\")\n",
    "\n"
   ]
  },
  {
   "cell_type": "markdown",
   "metadata": {},
   "source": [
    "## What is a Tensor?\n",
    "\n",
    "A tensor is the fundamental object in PyTorch, serving as the basic data structure for all operations. You can think of tensors as n-dimensional arrays that can represent various types of data:\n",
    "\n",
    "- A 0-dimensional tensor (scalar) represents a single number\n",
    "- A 1-dimensional tensor (vector) represents a list of numbers\n",
    "- A 2-dimensional tensor (matrix) represents a table of numbers\n",
    "- A 3-dimensional tensor could represent a cube of numbers\n",
    "- And so on for higher dimensions...\n",
    "\n",
    "What makes tensors special compared to regular arrays is that they can:\n",
    "1. Keep track of the operations performed on them (for automatic differentiation)\n",
    "2. Be used efficiently for mathematical operations\n",
    "3. Work seamlessly with deep learning operations\n",
    "\n",
    "Let's explore how to create and work with tensors."
   ]
  },
  {
   "cell_type": "markdown",
   "metadata": {},
   "source": [
    "## Scalar Tensor"
   ]
  },
  {
   "cell_type": "code",
   "execution_count": 2,
   "metadata": {},
   "outputs": [],
   "source": [
    "# Scalar tensor\n",
    "scalar_tensor = torch.tensor(7)"
   ]
  },
  {
   "cell_type": "code",
   "execution_count": 3,
   "metadata": {},
   "outputs": [
    {
     "data": {
      "text/plain": [
       "(torch.Size([]), 0, torch.int64, device(type='cpu'))"
      ]
     },
     "execution_count": 3,
     "metadata": {},
     "output_type": "execute_result"
    }
   ],
   "source": [
    "scalar_tensor.shape, scalar_tensor.dim(), scalar_tensor.dtype, scalar_tensor.device"
   ]
  },
  {
   "cell_type": "markdown",
   "metadata": {},
   "source": [
    "## Vector Tensor"
   ]
  },
  {
   "cell_type": "code",
   "execution_count": 4,
   "metadata": {},
   "outputs": [],
   "source": [
    "vector_tensor = torch.tensor([1, 2, 3])"
   ]
  },
  {
   "cell_type": "code",
   "execution_count": 5,
   "metadata": {},
   "outputs": [
    {
     "data": {
      "text/plain": [
       "(torch.Size([3]), 1, torch.int64, device(type='cpu'))"
      ]
     },
     "execution_count": 5,
     "metadata": {},
     "output_type": "execute_result"
    }
   ],
   "source": [
    "vector_tensor.shape, vector_tensor.dim(), vector_tensor.dtype, vector_tensor.device"
   ]
  },
  {
   "cell_type": "markdown",
   "metadata": {},
   "source": [
    "## 2D Tensor (Matrix)"
   ]
  },
  {
   "cell_type": "code",
   "execution_count": 6,
   "metadata": {},
   "outputs": [],
   "source": [
    "matrix_tensor = torch.tensor([[1, 2, 3], [4, 5, 6]])"
   ]
  },
  {
   "cell_type": "code",
   "execution_count": 7,
   "metadata": {},
   "outputs": [
    {
     "data": {
      "text/plain": [
       "(torch.Size([2, 3]), 2, torch.int64, device(type='cpu'))"
      ]
     },
     "execution_count": 7,
     "metadata": {},
     "output_type": "execute_result"
    }
   ],
   "source": [
    "matrix_tensor.shape, matrix_tensor.dim(), matrix_tensor.dtype, matrix_tensor.device"
   ]
  },
  {
   "cell_type": "markdown",
   "metadata": {},
   "source": [
    "## Here are some operations that can be done with these objects"
   ]
  },
  {
   "cell_type": "code",
   "execution_count": 8,
   "metadata": {},
   "outputs": [
    {
     "data": {
      "text/plain": [
       "tensor([[4, 5, 6],\n",
       "        [7, 8, 9]])"
      ]
     },
     "execution_count": 8,
     "metadata": {},
     "output_type": "execute_result"
    }
   ],
   "source": [
    "## Basic operations we can do with these objects\n",
    "\n",
    "matrix_tensor + 3"
   ]
  },
  {
   "cell_type": "code",
   "execution_count": 9,
   "metadata": {},
   "outputs": [
    {
     "data": {
      "text/plain": [
       "tensor(10)"
      ]
     },
     "execution_count": 9,
     "metadata": {},
     "output_type": "execute_result"
    }
   ],
   "source": [
    "scalar_tensor + 3"
   ]
  },
  {
   "cell_type": "code",
   "execution_count": 10,
   "metadata": {},
   "outputs": [
    {
     "data": {
      "text/plain": [
       "tensor([1, 4, 9])"
      ]
     },
     "execution_count": 10,
     "metadata": {},
     "output_type": "execute_result"
    }
   ],
   "source": [
    "# element-wise multiplication\n",
    "vector_tensor * vector_tensor"
   ]
  },
  {
   "cell_type": "markdown",
   "metadata": {},
   "source": []
  },
  {
   "cell_type": "code",
   "execution_count": 11,
   "metadata": {},
   "outputs": [
    {
     "data": {
      "text/plain": [
       "tensor(14)"
      ]
     },
     "execution_count": 11,
     "metadata": {},
     "output_type": "execute_result"
    }
   ],
   "source": [
    "# dot product\n",
    "vector_tensor @ vector_tensor\n",
    "\n"
   ]
  },
  {
   "cell_type": "code",
   "execution_count": 12,
   "metadata": {},
   "outputs": [
    {
     "data": {
      "text/plain": [
       "tensor([True, True, True])"
      ]
     },
     "execution_count": 12,
     "metadata": {},
     "output_type": "execute_result"
    }
   ],
   "source": [
    "vector_tensor * 7 == vector_tensor * torch.tensor(7)"
   ]
  },
  {
   "cell_type": "code",
   "execution_count": 13,
   "metadata": {},
   "outputs": [
    {
     "data": {
      "text/plain": [
       "tensor([[17, 22, 27],\n",
       "        [22, 29, 36],\n",
       "        [27, 36, 45]])"
      ]
     },
     "execution_count": 13,
     "metadata": {},
     "output_type": "execute_result"
    }
   ],
   "source": [
    "# matrix multiplication\n",
    "matrix_tensor.T @ matrix_tensor"
   ]
  },
  {
   "cell_type": "markdown",
   "metadata": {},
   "source": [
    "## Broadcasting: The Radio Analogy\n",
    "\n",
    "Think of broadcasting like a radio station: one transmitter (let's say playing a song) can reach multiple receivers. The station doesn't need to send individual signals to each receiver - it \"broadcasts\" one signal that all can receive.\n",
    "\n",
    "In PyTorch, broadcasting works similarly: a smaller tensor can be automatically \"broadcast\" to work with a larger tensor without actually creating copies in memory.\n",
    "\n",
    "### Simple Example:\n",
    "```python\n",
    "# Adding a single number (scalar) to a vector\n",
    "scalar = torch.tensor(2)         # Like our radio station\n",
    "vector = torch.tensor([1, 2, 3]) # Like multiple receivers\n",
    "\n",
    "# Broadcasting lets us do this:\n",
    "result = scalar + vector  # 2 is \"broadcast\" to [2, 2, 2]\n",
    "print(f\"scalar: {scalar}\")\n",
    "print(f\"vector: {vector}\")\n",
    "print(f\"result: {result}\")  # Will print: tensor([3, 4, 5])\n",
    "```\n",
    "\n",
    "```markdown\n",
    "PyTorch automatically \"broadcasts\" the scalar `2` to match the vector's shape, as if it were `[2, 2, 2]`, but without actually creating that temporary tensor in memory. That's why it's called broadcasting - one value is automatically spread (broadcast) to match the other tensor's shape."
   ]
  },
  {
   "cell_type": "code",
   "execution_count": 14,
   "metadata": {},
   "outputs": [
    {
     "name": "stdout",
     "output_type": "stream",
     "text": [
      "tensor([[2, 4, 6],\n",
      "        [5, 7, 9]])\n"
     ]
    }
   ],
   "source": [
    "# Vector + Matrix\n",
    "vector = torch.tensor([1, 2, 3])\n",
    "matrix = torch.tensor([[1, 2, 3], [4, 5, 6]])\n",
    "\n",
    "result = vector + matrix\n",
    "print(result)"
   ]
  },
  {
   "cell_type": "code",
   "execution_count": 15,
   "metadata": {},
   "outputs": [
    {
     "data": {
      "text/plain": [
       "tensor([[True, True],\n",
       "        [True, True],\n",
       "        [True, True]])"
      ]
     },
     "execution_count": 15,
     "metadata": {},
     "output_type": "execute_result"
    }
   ],
   "source": [
    "matrix.T + vector[0:2] == vector[0:2] + matrix.T"
   ]
  },
  {
   "cell_type": "code",
   "execution_count": 16,
   "metadata": {},
   "outputs": [],
   "source": [
    "# Broadcasting in 3D\n",
    "tensor_3d = torch.tensor([[[1, 2, 3],\n",
    "                          [4, 5, 6]],\n",
    "                         [[7, 8, 9],\n",
    "                          [10, 11, 12]]])\n"
   ]
  },
  {
   "cell_type": "code",
   "execution_count": 17,
   "metadata": {},
   "outputs": [
    {
     "data": {
      "text/plain": [
       "torch.Size([2, 2, 3])"
      ]
     },
     "execution_count": 17,
     "metadata": {},
     "output_type": "execute_result"
    }
   ],
   "source": [
    "tensor_3d.shape"
   ]
  },
  {
   "cell_type": "code",
   "execution_count": 18,
   "metadata": {},
   "outputs": [
    {
     "data": {
      "text/plain": [
       "tensor([[[ 2,  3,  4],\n",
       "         [ 5,  6,  7]],\n",
       "\n",
       "        [[ 8,  9, 10],\n",
       "         [11, 12, 13]]])"
      ]
     },
     "execution_count": 18,
     "metadata": {},
     "output_type": "execute_result"
    }
   ],
   "source": [
    "# broadcasting in 3D, pytorch will extend the missing dimension\n",
    "tensor_3d + torch.tensor([[1, 1, 1], [1, 1, 1]])\n",
    "\n",
    "# Let's compare right to left:\n",
    "# tensor_3d:        [2, 2, 3]\n",
    "# added tensor:       [2, 3]\n",
    "#                         ^  ^\n",
    "#                         |  |\n",
    "#                    The last two dimensions match (2=2 and 3=3)"
   ]
  },
  {
   "cell_type": "markdown",
   "metadata": {},
   "source": [
    "The key for broadcasting is:\n",
    "Start checking from the rightmost dimension\n",
    "Work your way left\n",
    "At each position, dimensions must either match, be 1, or not exist"
   ]
  },
  {
   "cell_type": "markdown",
   "metadata": {},
   "source": [
    "# Tensor Attributes and Methods"
   ]
  },
  {
   "cell_type": "code",
   "execution_count": 19,
   "metadata": {},
   "outputs": [],
   "source": [
    "x = torch.tensor([[1, 2, 3], [4, 5, 6], [7, 8, 9]], dtype=torch.float16)"
   ]
  },
  {
   "cell_type": "code",
   "execution_count": 20,
   "metadata": {},
   "outputs": [
    {
     "data": {
      "text/plain": [
       "torch.Size([3, 3])"
      ]
     },
     "execution_count": 20,
     "metadata": {},
     "output_type": "execute_result"
    }
   ],
   "source": [
    "x.shape"
   ]
  },
  {
   "cell_type": "code",
   "execution_count": 21,
   "metadata": {},
   "outputs": [
    {
     "data": {
      "text/plain": [
       "2"
      ]
     },
     "execution_count": 21,
     "metadata": {},
     "output_type": "execute_result"
    }
   ],
   "source": [
    "# dimension is the number of indices needed to select an element\n",
    "x.dim()"
   ]
  },
  {
   "cell_type": "code",
   "execution_count": 22,
   "metadata": {},
   "outputs": [
    {
     "data": {
      "text/plain": [
       "9"
      ]
     },
     "execution_count": 22,
     "metadata": {},
     "output_type": "execute_result"
    }
   ],
   "source": [
    "# number of elements in the tensor\n",
    "x.numel()"
   ]
  },
  {
   "cell_type": "code",
   "execution_count": 23,
   "metadata": {},
   "outputs": [
    {
     "data": {
      "text/plain": [
       "device(type='cpu')"
      ]
     },
     "execution_count": 23,
     "metadata": {},
     "output_type": "execute_result"
    }
   ],
   "source": [
    "# device is the device where the tensor is stored\n",
    "x.device"
   ]
  },
  {
   "cell_type": "code",
   "execution_count": 24,
   "metadata": {},
   "outputs": [
    {
     "data": {
      "text/plain": [
       "True"
      ]
     },
     "execution_count": 24,
     "metadata": {},
     "output_type": "execute_result"
    }
   ],
   "source": [
    "# are elements contiguous in memory?\n",
    "x.is_contiguous()"
   ]
  },
  {
   "cell_type": "markdown",
   "metadata": {},
   "source": [
    "## Gradient-Related Attributes"
   ]
  },
  {
   "cell_type": "code",
   "execution_count": 25,
   "metadata": {},
   "outputs": [
    {
     "data": {
      "text/plain": [
       "False"
      ]
     },
     "execution_count": 25,
     "metadata": {},
     "output_type": "execute_result"
    }
   ],
   "source": [
    "# does tensor track gradient?\n",
    "x.requires_grad\n"
   ]
  },
  {
   "cell_type": "code",
   "execution_count": 26,
   "metadata": {},
   "outputs": [],
   "source": [
    "# create a tensor that requires gradient\n",
    "x = torch.tensor(2, requires_grad=True, dtype=torch.float32)"
   ]
  },
  {
   "cell_type": "code",
   "execution_count": 27,
   "metadata": {},
   "outputs": [],
   "source": [
    "# here is a function of a scalar input\n",
    "\n",
    "y = x*x - 25"
   ]
  },
  {
   "cell_type": "code",
   "execution_count": 28,
   "metadata": {},
   "outputs": [
    {
     "data": {
      "image/png": "[encoded data removed]",
      "text/plain": [
       "<Figure size 640x480 with 1 Axes>"
      ]
     },
     "metadata": {},
     "output_type": "display_data"
    }
   ],
   "source": [
    "# visualizating what the function looks like\n",
    "\n",
    "import matplotlib.pyplot as plt\n",
    "import torch\n",
    "\n",
    "x = torch.linspace(-10, 10, 100)\n",
    "y = x * x - 25\n",
    "\n",
    "\n",
    "plt.plot(x, y)\n",
    "plt.grid(True)\n",
    "plt.axhline(y=0, color='k', linestyle='-', alpha=0.3)\n",
    "plt.axvline(x=0, color='k', linestyle='-', alpha=0.3)\n",
    "plt.title('y = x² - 25')\n",
    "plt.show()"
   ]
  },
  {
   "cell_type": "code",
   "execution_count": 29,
   "metadata": {},
   "outputs": [
    {
     "name": "stdout",
     "output_type": "stream",
     "text": [
      "x: 10.0000, y: 75.0000\n",
      "x:  6.0000, y: 11.0000\n",
      "x:  3.6000, y: -12.0400\n",
      "x:  2.1600, y: -20.3344\n",
      "x:  1.2960, y: -23.3204\n",
      "x:  0.7776, y: -24.3953\n",
      "x:  0.4666, y: -24.7823\n",
      "x:  0.2799, y: -24.9216\n",
      "x:  0.1680, y: -24.9718\n",
      "x:  0.1008, y: -24.9898\n"
     ]
    }
   ],
   "source": [
    "# \"backpropagate\" the function to find the minimum\n",
    "# this is equivalent to the gradient descent algorithm\n",
    "\n",
    "x = torch.tensor([10.0], requires_grad=True)\n",
    "lr = 0.2\n",
    "\n",
    "for i in range(10):\n",
    "    y = x * x - 25\n",
    "    print(f\"x: {x.item():7.4f}, y: {y.item():7.4f}\")\n",
    "\n",
    "    y.backward()\n",
    "    with torch.no_grad():\n",
    "        x -= lr * x.grad\n",
    "        x.grad.zero_()"
   ]
  },
  {
   "cell_type": "code",
   "execution_count": 30,
   "metadata": {},
   "outputs": [
    {
     "name": "stdout",
     "output_type": "stream",
     "text": [
      "gradients -> analytical: 20.0000, pytorch: 20.0000, numerical: 20.0000\n",
      "\n",
      "gradients -> analytical: 12.0000, pytorch: 12.0000, numerical: 12.0000\n",
      "\n",
      "gradients -> analytical:  7.2000, pytorch:  7.2000, numerical:  7.2000\n",
      "\n",
      "gradients -> analytical:  4.3200, pytorch:  4.3200, numerical:  4.3200\n",
      "\n",
      "gradients -> analytical:  2.5920, pytorch:  2.5920, numerical:  2.5920\n",
      "\n"
     ]
    }
   ],
   "source": [
    "# comparing the gradient descent to the analytical solution\n",
    "\n",
    "x = torch.tensor([10.0], requires_grad=True)\n",
    "lr = 0.2\n",
    "eps = 1e-7  # Small value for numerical gradient\n",
    "\n",
    "for i in range(5):\n",
    "    y = x * x - 25\n",
    "\n",
    "    # Compute numerical gradient: (f(x+h) - f(x-h))/(2h)\n",
    "    x_val = x.item()  # Get current x value\n",
    "    y_plus = (x_val + eps) ** 2 - 25\n",
    "    y_minus = (x_val - eps) ** 2 - 25\n",
    "    numerical_grad = (y_plus - y_minus)/(2*eps)\n",
    "\n",
    "    # Get PyTorch gradient\n",
    "    y.backward()\n",
    "    pytorch_grad = x.grad.clone()  # Save before zeroing\n",
    "\n",
    "    # Analytical gradient is 2x\n",
    "    analytical_grad = 2 * x.item()\n",
    "\n",
    "    print(f\"gradients -> analytical: {analytical_grad:7.4f}, \"\n",
    "          f\"pytorch: {pytorch_grad.item():7.4f}, \"\n",
    "          f\"numerical: {numerical_grad:7.4f}\\n\")\n",
    "\n",
    "    with torch.no_grad():\n",
    "        x -= lr * x.grad\n",
    "        x.grad.zero_()"
   ]
  },
  {
   "cell_type": "markdown",
   "metadata": {},
   "source": [
    "Key insights:\n",
    "1. Even though we compute the gradient of y (∂y/∂x), the gradient gets stored in x.grad\n",
    "2. This might seem counterintuitive at first - in calculus, we think of the gradient as a property of the function y(x)\n",
    "3. However, this design makes perfect sense for optimization:\n",
    "   - We need the gradient to update x (gradient descent: x = x - lr * grad)\n",
    "   - x might be used to compute many different y's\n",
    "   - In neural networks, x would be weights/parameters that we're optimizing\n",
    "\n",
    "This is what \"backpropagation\" really means:\n",
    "- Forward pass: x → y (compute output)\n",
    "- Backward pass: y → x (gradient flows back to input)\n",
    "- The gradient information \"propagates backward\" through the computation graph\n",
    "- Each variable that requires gradients (requires_grad=True) will collect its gradient during this backward flow\n",
    "\n",
    "This design is particularly elegant for deep learning where:\n",
    "- We have many parameters (x's) that need updating\n",
    "- We have one loss function (y)\n",
    "- We need to compute ∂y/∂x for each parameter x\n",
    "- The gradients naturally flow back to where they're needed for updates"
   ]
  },
  {
   "cell_type": "markdown",
   "metadata": {},
   "source": [
    "## Reshaping Methods"
   ]
  },
  {
   "cell_type": "code",
   "execution_count": 31,
   "metadata": {},
   "outputs": [],
   "source": [
    "x = torch.tensor([1, 2, 3, 4, 5, 6])"
   ]
  },
  {
   "cell_type": "code",
   "execution_count": 32,
   "metadata": {},
   "outputs": [
    {
     "data": {
      "text/plain": [
       "torch.Size([6])"
      ]
     },
     "execution_count": 32,
     "metadata": {},
     "output_type": "execute_result"
    }
   ],
   "source": [
    "x.shape"
   ]
  },
  {
   "cell_type": "code",
   "execution_count": 33,
   "metadata": {},
   "outputs": [
    {
     "data": {
      "text/plain": [
       "tensor([[1],\n",
       "        [2],\n",
       "        [3],\n",
       "        [4],\n",
       "        [5],\n",
       "        [6]])"
      ]
     },
     "execution_count": 33,
     "metadata": {},
     "output_type": "execute_result"
    }
   ],
   "source": [
    "x.reshape(6,1)"
   ]
  },
  {
   "cell_type": "code",
   "execution_count": 34,
   "metadata": {},
   "outputs": [
    {
     "data": {
      "text/plain": [
       "tensor([[1, 2, 3, 4, 5, 6]])"
      ]
     },
     "execution_count": 34,
     "metadata": {},
     "output_type": "execute_result"
    }
   ],
   "source": [
    "x.reshape(1,6)"
   ]
  },
  {
   "cell_type": "code",
   "execution_count": 35,
   "metadata": {},
   "outputs": [
    {
     "data": {
      "text/plain": [
       "tensor([[1, 2, 3],\n",
       "        [4, 5, 6]])"
      ]
     },
     "execution_count": 35,
     "metadata": {},
     "output_type": "execute_result"
    }
   ],
   "source": [
    "x.reshape(2,3)"
   ]
  },
  {
   "cell_type": "code",
   "execution_count": 36,
   "metadata": {},
   "outputs": [
    {
     "data": {
      "text/plain": [
       "tensor([[1, 2],\n",
       "        [3, 4],\n",
       "        [5, 6]])"
      ]
     },
     "execution_count": 36,
     "metadata": {},
     "output_type": "execute_result"
    }
   ],
   "source": [
    "x.reshape(3,2)"
   ]
  },
  {
   "cell_type": "markdown",
   "metadata": {},
   "source": [
    "## Index and Slicing"
   ]
  },
  {
   "cell_type": "code",
   "execution_count": 37,
   "metadata": {},
   "outputs": [],
   "source": [
    "# Create a tensor to demonstrate indexing and slicing\n",
    "x = torch.tensor([\n",
    "    [[1, 2, 3],\n",
    "     [4, 5, 6]],\n",
    "    [[7, 8, 9],\n",
    "     [10, 11, 12]]\n",
    "])"
   ]
  },
  {
   "cell_type": "code",
   "execution_count": 38,
   "metadata": {},
   "outputs": [
    {
     "data": {
      "text/plain": [
       "torch.Size([2, 2, 3])"
      ]
     },
     "execution_count": 38,
     "metadata": {},
     "output_type": "execute_result"
    }
   ],
   "source": [
    "x.shape"
   ]
  },
  {
   "cell_type": "code",
   "execution_count": 39,
   "metadata": {},
   "outputs": [
    {
     "data": {
      "text/plain": [
       "tensor(12)"
      ]
     },
     "execution_count": 39,
     "metadata": {},
     "output_type": "execute_result"
    }
   ],
   "source": [
    "# basic indexing\n",
    "x[1, 1, 2]\n",
    "\n",
    "# first index leads to choosing the [7,8,9], [10,11,12]\n",
    "# second index leads to choosing [10, 11, 12]\n",
    "# last index leads to choosing 12"
   ]
  },
  {
   "cell_type": "code",
   "execution_count": 40,
   "metadata": {},
   "outputs": [
    {
     "data": {
      "text/plain": [
       "tensor([[ 3,  6],\n",
       "        [ 9, 12]])"
      ]
     },
     "execution_count": 40,
     "metadata": {},
     "output_type": "execute_result"
    }
   ],
   "source": [
    "# slicing\n",
    "x[0:2, 0:2, 2]"
   ]
  },
  {
   "cell_type": "markdown",
   "metadata": {},
   "source": [
    "## Type Conversion"
   ]
  },
  {
   "cell_type": "code",
   "execution_count": 41,
   "metadata": {},
   "outputs": [],
   "source": [
    "x = torch.tensor(4)"
   ]
  },
  {
   "cell_type": "code",
   "execution_count": 42,
   "metadata": {},
   "outputs": [
    {
     "data": {
      "text/plain": [
       "torch.int64"
      ]
     },
     "execution_count": 42,
     "metadata": {},
     "output_type": "execute_result"
    }
   ],
   "source": [
    "x.dtype"
   ]
  },
  {
   "cell_type": "code",
   "execution_count": 43,
   "metadata": {},
   "outputs": [
    {
     "data": {
      "text/plain": [
       "torch.float32"
      ]
     },
     "execution_count": 43,
     "metadata": {},
     "output_type": "execute_result"
    }
   ],
   "source": [
    "x.to(torch.float32).dtype"
   ]
  },
  {
   "cell_type": "code",
   "execution_count": null,
   "metadata": {},
   "outputs": [],
   "source": []
  }
 ],
 "metadata": {
  "kernelspec": {
   "display_name": ".venv-pytorch-practice",
   "language": "python",
   "name": "python3"
  },
  "language_info": {
   "codemirror_mode": {
    "name": "ipython",
    "version": 3
   },
   "file_extension": ".py",
   "mimetype": "text/x-python",
   "name": "python",
   "nbconvert_exporter": "python",
   "pygments_lexer": "ipython3",
   "version": "3.8.19"
  }
 },
 "nbformat": 4,
 "nbformat_minor": 2
}
