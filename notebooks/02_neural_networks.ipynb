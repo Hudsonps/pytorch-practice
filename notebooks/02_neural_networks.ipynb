{
 "cells": [
  {
   "cell_type": "markdown",
   "metadata": {
    "vscode": {
     "languageId": "plaintext"
    }
   },
   "source": [
    "# Neural Network Basics\n",
    "\n",
    "## Topics Covered:\n",
    "\n",
    "1. Linear Layers\n",
    "   \n",
    "   - Understanding linear transformations\n",
    "   - Implementation in PyTorch\n",
    "   - Bias terms\n",
    "\n",
    "2. Activation Functions\n",
    "   - ReLU, Sigmoid, Tanh\n",
    "   - When to use each\n",
    "   - Implementation and visualization\n",
    "\n",
    "3. Building Neural Network Modules\n",
    "   - nn.Module class\n",
    "   - Creating custom layers\n",
    "   - Forward method implementation\n",
    "\n",
    "4. Loss Functions\n",
    "   - Common loss functions\n",
    "   - When to use each\n",
    "   - Implementation examples\n",
    "\n",
    "5. Optimizers\n",
    "   - SGD\n",
    "   - Adam\n",
    "   - Learning rate selection\n",
    "\n",
    "6. Basic Training Loops\n",
    "   - Forward pass\n",
    "   - Loss computation\n",
    "   - Backward pass\n",
    "   - Parameter updates"
   ]
  },
  {
   "cell_type": "code",
   "execution_count": 2,
   "metadata": {},
   "outputs": [],
   "source": [
    "import torch\n",
    "import torch.nn as nn\n",
    "import torch.optim as optim\n",
    "import numpy as np\n",
    "import matplotlib.pyplot as plt"
   ]
  },
  {
   "cell_type": "markdown",
   "metadata": {
    "vscode": {
     "languageId": "plaintext"
    }
   },
   "source": [
    "## Linear Layers\n",
    "\n",
    "A linear layer performs the operation:\n",
    "y = Wx + b\n",
    "\n",
    "Let us implement this in PyTorch"
   ]
  },
  {
   "cell_type": "code",
   "execution_count": 3,
   "metadata": {},
   "outputs": [
    {
     "name": "stdout",
     "output_type": "stream",
     "text": [
      "Parameter containing:\n",
      "tensor([[ 0.4177, -0.5497,  0.0240],\n",
      "        [ 0.0882,  0.1632,  0.4168]], requires_grad=True)\n",
      "Parameter containing:\n",
      "tensor([0.5553, 0.2438], requires_grad=True)\n"
     ]
    }
   ],
   "source": [
    "# create a linear layer\n",
    "in_features = 3\n",
    "out_features = 2\n",
    "\n",
    "linear_layer = nn.Linear(in_features, out_features)\n",
    "\n",
    "# print the layer parameters\n",
    "print(linear_layer.weight)\n",
    "print(linear_layer.bias)\n"
   ]
  },
  {
   "cell_type": "code",
   "execution_count": 5,
   "metadata": {},
   "outputs": [],
   "source": [
    "# create an input tensor\n",
    "x = torch.tensor([1.0, 2.0, 3.0])"
   ]
  },
  {
   "cell_type": "code",
   "execution_count": 6,
   "metadata": {},
   "outputs": [],
   "source": [
    "y = linear_layer(x)"
   ]
  },
  {
   "cell_type": "code",
   "execution_count": 7,
   "metadata": {},
   "outputs": [
    {
     "data": {
      "text/plain": [
       "torch.Size([2])"
      ]
     },
     "execution_count": 7,
     "metadata": {},
     "output_type": "execute_result"
    }
   ],
   "source": [
    "y.shape"
   ]
  },
  {
   "cell_type": "code",
   "execution_count": 8,
   "metadata": {},
   "outputs": [
    {
     "data": {
      "text/plain": [
       "tensor([-0.0545,  1.9088], grad_fn=<ViewBackward0>)"
      ]
     },
     "execution_count": 8,
     "metadata": {},
     "output_type": "execute_result"
    }
   ],
   "source": [
    "y"
   ]
  },
  {
   "cell_type": "code",
   "execution_count": 14,
   "metadata": {},
   "outputs": [
    {
     "data": {
      "text/plain": [
       "tensor([-0.0545,  1.9088], grad_fn=<AddBackward0>)"
      ]
     },
     "execution_count": 14,
     "metadata": {},
     "output_type": "execute_result"
    }
   ],
   "source": [
    "# manual computation yielding the same results:\n",
    "manual_y = x @ linear_layer.weight.T + linear_layer.bias\n",
    "manual_y"
   ]
  },
  {
   "cell_type": "markdown",
   "metadata": {},
   "source": [
    "## Training a Linear Layer\n",
    "\n",
    "Now that we understand how a linear layer transforms input, let's see how it learns. We'll:\n",
    "1. Create a simple regression problem\n",
    "2. Use a linear layer to solve it\n",
    "3. Train the layer using gradient descent\n",
    "\n",
    "Our task: Learn the transformation y = 2x + 1\n",
    "- This is a simple linear relationship\n",
    "- The weight should learn to be close to 2\n",
    "- The bias should learn to be close to 1"
   ]
  },
  {
   "cell_type": "code",
   "execution_count": null,
   "metadata": {},
   "outputs": [],
   "source": [
    "# Create synthetic data\n",
    "x = torch.linspace(-10, 10, 100).reshape(-1, 1)  # Input values\n",
    "y_true = 2 * x + 1  # True relationship we want to learn\n",
    "\n",
    "# Add noise to the data\n",
    "y = y_true + torch.randn(x.shape) * 2\n",
    "\n",
    "# Plot the data\n",
    "plt.scatter(x, y, label='Noisy data')"
   ]
  },
  {
   "cell_type": "code",
   "execution_count": null,
   "metadata": {},
   "outputs": [],
   "source": []
  }
 ],
 "metadata": {
  "kernelspec": {
   "display_name": ".venv-pytorch-practice",
   "language": "python",
   "name": "python3"
  },
  "language_info": {
   "codemirror_mode": {
    "name": "ipython",
    "version": 3
   },
   "file_extension": ".py",
   "mimetype": "text/x-python",
   "name": "python",
   "nbconvert_exporter": "python",
   "pygments_lexer": "ipython3",
   "version": "3.8.19"
  }
 },
 "nbformat": 4,
 "nbformat_minor": 2
}
